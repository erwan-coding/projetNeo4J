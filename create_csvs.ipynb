{
 "cells": [
  {
   "cell_type": "code",
   "execution_count": 2,
   "metadata": {},
   "outputs": [],
   "source": [
    "import pandas as pd \n",
    "from tqdm import tqdm \n",
    "tqdm.pandas()\n",
    "\n",
    "restau = pd.read_json('yelp_restaurants.json')\n",
    "review = pd.read_json('yelp_review.json')\n",
    "user = pd.read_json('yelp_user.json')"
   ]
  },
  {
   "cell_type": "code",
   "execution_count": 3,
   "metadata": {},
   "outputs": [],
   "source": [
    "user_clean = user[['user_id','review_count','useful','cool','fans']]\n",
    "review_clean = review[['review_id','stars','useful','cool','text']]\n",
    "restau_clean = restau[['business_id','city']]"
   ]
  },
  {
   "cell_type": "code",
   "execution_count": 4,
   "metadata": {},
   "outputs": [
    {
     "name": "stdout",
     "output_type": "stream",
     "text": [
      "coucou \"machin\" \n"
     ]
    },
    {
     "data": {
      "text/plain": [
       "'coucou \"\"machin\"\" '"
      ]
     },
     "execution_count": 4,
     "metadata": {},
     "output_type": "execute_result"
    }
   ],
   "source": [
    "text = \"\"\"coucou \"machin\" \"\"\"\n",
    "print(text)\n",
    "text.replace(\"\\\"\",\"\\\"\\\"\")"
   ]
  },
  {
   "cell_type": "code",
   "execution_count": 16,
   "metadata": {},
   "outputs": [
    {
     "name": "stderr",
     "output_type": "stream",
     "text": [
      "100%|██████████| 49150/49150 [00:00<00:00, 319964.68it/s]\n"
     ]
    },
    {
     "data": {
      "text/plain": [
       "0        \"This is the place for authentic Indian street...\n",
       "1        \"Food was great. But very disappointed with th...\n",
       "2        \"One of the few diners in North Wilmington, an...\n",
       "3        \"Yeah, I know what you're thinking. One Wawa s...\n",
       "4        \"My boyfriend and I have lived in trolley squa...\n",
       "                               ...                        \n",
       "49145    \"Take out on a Saturday night around 9pm. Staf...\n",
       "49146    \"I loved the atmosphere! Clean place and good ...\n",
       "49147    \"We get takeout here pretty regularly, and hav...\n",
       "49148    \"Mia and her staff did an AMAZING job on my da...\n",
       "49149    \"Originally gave this a 4 star, but I knew I w...\n",
       "Name: text, Length: 49150, dtype: object"
      ]
     },
     "execution_count": 16,
     "metadata": {},
     "output_type": "execute_result"
    }
   ],
   "source": [
    "#cleaning des string de reviews \n",
    "\n",
    "for text in review_clean.text.values:\n",
    "    c = \"\\\"\"\n",
    "    if c in text:\n",
    "        # print(text)\n",
    "        text = text.replace(c,\"\\\"\\\"\")\n",
    "        text = \"\\\"\"+text+\"\\\"\"\n",
    "        # print(text)\n",
    "\n",
    "def add_truc_text(texte):\n",
    "    c = \"\\\"\"\n",
    "    if c in texte:\n",
    "        texte = texte.replace(c,\"\\\"\\\"\")\n",
    "    texte = \"\\\"\"+texte+\"\\\"\"\n",
    "    return texte\n",
    "\n",
    "review_clean['text'].progress_apply(add_truc_text)    "
   ]
  },
  {
   "cell_type": "code",
   "execution_count": 6,
   "metadata": {},
   "outputs": [],
   "source": [
    "friendship_dic = {} #user 1 vers user 2\n",
    "friendship_dic[':START_ID'] = {}\n",
    "friendship_dic[':END_ID'] = {}\n",
    "id = 1\n",
    "for i,r in user.iterrows():\n",
    "    for friend in r['friends']:\n",
    "        friendship_dic[':START_ID'][id]= r['user_id']\n",
    "        friendship_dic[':END_ID'][id]= friend\n",
    "\n",
    "        id+=1\n",
    "\n",
    "friendship = pd.DataFrame.from_dict(friendship_dic)"
   ]
  },
  {
   "cell_type": "code",
   "execution_count": 7,
   "metadata": {},
   "outputs": [
    {
     "data": {
      "text/html": [
       "<div>\n",
       "<style scoped>\n",
       "    .dataframe tbody tr th:only-of-type {\n",
       "        vertical-align: middle;\n",
       "    }\n",
       "\n",
       "    .dataframe tbody tr th {\n",
       "        vertical-align: top;\n",
       "    }\n",
       "\n",
       "    .dataframe thead th {\n",
       "        text-align: right;\n",
       "    }\n",
       "</style>\n",
       "<table border=\"1\" class=\"dataframe\">\n",
       "  <thead>\n",
       "    <tr style=\"text-align: right;\">\n",
       "      <th></th>\n",
       "      <th>:START_ID</th>\n",
       "      <th>:END_ID</th>\n",
       "    </tr>\n",
       "  </thead>\n",
       "  <tbody>\n",
       "    <tr>\n",
       "      <th>1</th>\n",
       "      <td>IpLRJY4CP3fXtlEd8Y4GFQ</td>\n",
       "      <td>y3Wtx1pOvTiqsJRkjceXiw</td>\n",
       "    </tr>\n",
       "    <tr>\n",
       "      <th>2</th>\n",
       "      <td>IpLRJY4CP3fXtlEd8Y4GFQ</td>\n",
       "      <td>_BcWyKQL16ndpBdggh2kNA</td>\n",
       "    </tr>\n",
       "    <tr>\n",
       "      <th>3</th>\n",
       "      <td>IpLRJY4CP3fXtlEd8Y4GFQ</td>\n",
       "      <td>lRRuTimITgwzoXLIM3g9qw</td>\n",
       "    </tr>\n",
       "    <tr>\n",
       "      <th>4</th>\n",
       "      <td>IpLRJY4CP3fXtlEd8Y4GFQ</td>\n",
       "      <td>z02XKjGqJMONH59_lUHlTQ</td>\n",
       "    </tr>\n",
       "    <tr>\n",
       "      <th>5</th>\n",
       "      <td>IpLRJY4CP3fXtlEd8Y4GFQ</td>\n",
       "      <td>47K1MpOBhigOvjuBcDbm7Q</td>\n",
       "    </tr>\n",
       "    <tr>\n",
       "      <th>...</th>\n",
       "      <td>...</td>\n",
       "      <td>...</td>\n",
       "    </tr>\n",
       "    <tr>\n",
       "      <th>42772</th>\n",
       "      <td>sBrBqsyzGkvAwa6sGk9q1Q</td>\n",
       "      <td>nMtldMTrGbjejbCXJEqbmQ</td>\n",
       "    </tr>\n",
       "    <tr>\n",
       "      <th>42773</th>\n",
       "      <td>kEC-cWeQZLLHgkVZBN-1og</td>\n",
       "      <td>iFYykW2hxVbZcbzcviZp0A</td>\n",
       "    </tr>\n",
       "    <tr>\n",
       "      <th>42774</th>\n",
       "      <td>kEC-cWeQZLLHgkVZBN-1og</td>\n",
       "      <td>7tqBqky6u5IrJrV_g6S2Sg</td>\n",
       "    </tr>\n",
       "    <tr>\n",
       "      <th>42775</th>\n",
       "      <td>NUfGzTtNM3ZX3OKq8ytpNw</td>\n",
       "      <td>88S8cjbVq7joeIjYgYDwCw</td>\n",
       "    </tr>\n",
       "    <tr>\n",
       "      <th>42776</th>\n",
       "      <td>4Kr8mAJnYV0Iv2fJD-wIDw</td>\n",
       "      <td>LKT4lekrbGj9FKgW0b3ajQ</td>\n",
       "    </tr>\n",
       "  </tbody>\n",
       "</table>\n",
       "<p>42776 rows × 2 columns</p>\n",
       "</div>"
      ],
      "text/plain": [
       "                    :START_ID                 :END_ID\n",
       "1      IpLRJY4CP3fXtlEd8Y4GFQ  y3Wtx1pOvTiqsJRkjceXiw\n",
       "2      IpLRJY4CP3fXtlEd8Y4GFQ  _BcWyKQL16ndpBdggh2kNA\n",
       "3      IpLRJY4CP3fXtlEd8Y4GFQ  lRRuTimITgwzoXLIM3g9qw\n",
       "4      IpLRJY4CP3fXtlEd8Y4GFQ  z02XKjGqJMONH59_lUHlTQ\n",
       "5      IpLRJY4CP3fXtlEd8Y4GFQ  47K1MpOBhigOvjuBcDbm7Q\n",
       "...                       ...                     ...\n",
       "42772  sBrBqsyzGkvAwa6sGk9q1Q  nMtldMTrGbjejbCXJEqbmQ\n",
       "42773  kEC-cWeQZLLHgkVZBN-1og  iFYykW2hxVbZcbzcviZp0A\n",
       "42774  kEC-cWeQZLLHgkVZBN-1og  7tqBqky6u5IrJrV_g6S2Sg\n",
       "42775  NUfGzTtNM3ZX3OKq8ytpNw  88S8cjbVq7joeIjYgYDwCw\n",
       "42776  4Kr8mAJnYV0Iv2fJD-wIDw  LKT4lekrbGj9FKgW0b3ajQ\n",
       "\n",
       "[42776 rows x 2 columns]"
      ]
     },
     "execution_count": 7,
     "metadata": {},
     "output_type": "execute_result"
    }
   ],
   "source": [
    "friendship"
   ]
  },
  {
   "cell_type": "code",
   "execution_count": 8,
   "metadata": {},
   "outputs": [],
   "source": [
    "write_dic = {} #user vers review\n",
    "write_dic[':START_ID'] = {}\n",
    "write_dic[':END_ID'] = {}\n",
    "id = 1\n",
    "for i,r in review.iterrows():\n",
    "    write_dic[':START_ID'][id]= r['user_id']\n",
    "    write_dic[':END_ID'][id]= r['review_id']\n",
    "    id+=1\n",
    "\n",
    "wrote = pd.DataFrame.from_dict(write_dic)"
   ]
  },
  {
   "cell_type": "code",
   "execution_count": 9,
   "metadata": {},
   "outputs": [
    {
     "data": {
      "text/html": [
       "<div>\n",
       "<style scoped>\n",
       "    .dataframe tbody tr th:only-of-type {\n",
       "        vertical-align: middle;\n",
       "    }\n",
       "\n",
       "    .dataframe tbody tr th {\n",
       "        vertical-align: top;\n",
       "    }\n",
       "\n",
       "    .dataframe thead th {\n",
       "        text-align: right;\n",
       "    }\n",
       "</style>\n",
       "<table border=\"1\" class=\"dataframe\">\n",
       "  <thead>\n",
       "    <tr style=\"text-align: right;\">\n",
       "      <th></th>\n",
       "      <th>:START_ID</th>\n",
       "      <th>:END_ID</th>\n",
       "    </tr>\n",
       "  </thead>\n",
       "  <tbody>\n",
       "    <tr>\n",
       "      <th>1</th>\n",
       "      <td>8rrmvJ7W3ujplXuOhjE2Hg</td>\n",
       "      <td>2xlNGuN8naQTHO3_xY0lGw</td>\n",
       "    </tr>\n",
       "    <tr>\n",
       "      <th>2</th>\n",
       "      <td>TRFTDMJegE6DituEKBpEKQ</td>\n",
       "      <td>_Dkml_CfMMb_wWeGpFtczg</td>\n",
       "    </tr>\n",
       "    <tr>\n",
       "      <th>3</th>\n",
       "      <td>glO-c9FC0RaY2GyiamCQFA</td>\n",
       "      <td>EmLTCw2p9BhOwnzHFXgGaQ</td>\n",
       "    </tr>\n",
       "    <tr>\n",
       "      <th>4</th>\n",
       "      <td>cFaHx-FkCnzdfF8BccukIg</td>\n",
       "      <td>PlYifdeyiixRZkymbUNqVQ</td>\n",
       "    </tr>\n",
       "    <tr>\n",
       "      <th>5</th>\n",
       "      <td>hefsTMvc-iSBsY_Nfa8WCg</td>\n",
       "      <td>PtUd264rjqWuEzL89nf64w</td>\n",
       "    </tr>\n",
       "    <tr>\n",
       "      <th>...</th>\n",
       "      <td>...</td>\n",
       "      <td>...</td>\n",
       "    </tr>\n",
       "    <tr>\n",
       "      <th>49146</th>\n",
       "      <td>508Y2A3yYQOyGaMDUYFXQQ</td>\n",
       "      <td>nWGqiW9gSFeb4jFTw2_guA</td>\n",
       "    </tr>\n",
       "    <tr>\n",
       "      <th>49147</th>\n",
       "      <td>Eviotci6ld8KT8QmjfW2tw</td>\n",
       "      <td>hK_2Z2XFGz7H3Mdl-t0Ubg</td>\n",
       "    </tr>\n",
       "    <tr>\n",
       "      <th>49148</th>\n",
       "      <td>NBKyKmBWssn8Weq-H-sCRQ</td>\n",
       "      <td>nz-OnQGnVIyy-gs7xVSJZQ</td>\n",
       "    </tr>\n",
       "    <tr>\n",
       "      <th>49149</th>\n",
       "      <td>UP9dlqXxqJ2o5nfN--Fn2Q</td>\n",
       "      <td>XPrmT_RGh3t7uq9NYhcG7g</td>\n",
       "    </tr>\n",
       "    <tr>\n",
       "      <th>49150</th>\n",
       "      <td>FWluTtPmCfLbwneNlbUCig</td>\n",
       "      <td>tqKl99S3x2p6cNWmekW3MA</td>\n",
       "    </tr>\n",
       "  </tbody>\n",
       "</table>\n",
       "<p>49150 rows × 2 columns</p>\n",
       "</div>"
      ],
      "text/plain": [
       "                    :START_ID                 :END_ID\n",
       "1      8rrmvJ7W3ujplXuOhjE2Hg  2xlNGuN8naQTHO3_xY0lGw\n",
       "2      TRFTDMJegE6DituEKBpEKQ  _Dkml_CfMMb_wWeGpFtczg\n",
       "3      glO-c9FC0RaY2GyiamCQFA  EmLTCw2p9BhOwnzHFXgGaQ\n",
       "4      cFaHx-FkCnzdfF8BccukIg  PlYifdeyiixRZkymbUNqVQ\n",
       "5      hefsTMvc-iSBsY_Nfa8WCg  PtUd264rjqWuEzL89nf64w\n",
       "...                       ...                     ...\n",
       "49146  508Y2A3yYQOyGaMDUYFXQQ  nWGqiW9gSFeb4jFTw2_guA\n",
       "49147  Eviotci6ld8KT8QmjfW2tw  hK_2Z2XFGz7H3Mdl-t0Ubg\n",
       "49148  NBKyKmBWssn8Weq-H-sCRQ  nz-OnQGnVIyy-gs7xVSJZQ\n",
       "49149  UP9dlqXxqJ2o5nfN--Fn2Q  XPrmT_RGh3t7uq9NYhcG7g\n",
       "49150  FWluTtPmCfLbwneNlbUCig  tqKl99S3x2p6cNWmekW3MA\n",
       "\n",
       "[49150 rows x 2 columns]"
      ]
     },
     "execution_count": 9,
     "metadata": {},
     "output_type": "execute_result"
    }
   ],
   "source": [
    "wrote"
   ]
  },
  {
   "cell_type": "code",
   "execution_count": 10,
   "metadata": {},
   "outputs": [],
   "source": [
    "critic_dic = {} #de review à resto\n",
    "critic_dic[':START_ID'] = {}\n",
    "critic_dic[':END_ID'] = {}\n",
    "# critic_dic['text'] = {}\n",
    "id = 1\n",
    "for i,r in review.iterrows():\n",
    "    critic_dic[':START_ID'][id]= r['review_id']\n",
    "    critic_dic[':END_ID'][id]= r['business_id']\n",
    "    # critic_dic['text'][id]= r['text']\n",
    "    id+=1\n",
    "\n",
    "critics = pd.DataFrame.from_dict(critic_dic)"
   ]
  },
  {
   "cell_type": "code",
   "execution_count": 11,
   "metadata": {},
   "outputs": [
    {
     "data": {
      "text/html": [
       "<div>\n",
       "<style scoped>\n",
       "    .dataframe tbody tr th:only-of-type {\n",
       "        vertical-align: middle;\n",
       "    }\n",
       "\n",
       "    .dataframe tbody tr th {\n",
       "        vertical-align: top;\n",
       "    }\n",
       "\n",
       "    .dataframe thead th {\n",
       "        text-align: right;\n",
       "    }\n",
       "</style>\n",
       "<table border=\"1\" class=\"dataframe\">\n",
       "  <thead>\n",
       "    <tr style=\"text-align: right;\">\n",
       "      <th></th>\n",
       "      <th>:START_ID</th>\n",
       "      <th>:END_ID</th>\n",
       "    </tr>\n",
       "  </thead>\n",
       "  <tbody>\n",
       "    <tr>\n",
       "      <th>1</th>\n",
       "      <td>2xlNGuN8naQTHO3_xY0lGw</td>\n",
       "      <td>yDiWYpuzRxcTgSi_O4JZpQ</td>\n",
       "    </tr>\n",
       "    <tr>\n",
       "      <th>2</th>\n",
       "      <td>_Dkml_CfMMb_wWeGpFtczg</td>\n",
       "      <td>W6S482dRQ_9nCcLjfv8VNg</td>\n",
       "    </tr>\n",
       "    <tr>\n",
       "      <th>3</th>\n",
       "      <td>EmLTCw2p9BhOwnzHFXgGaQ</td>\n",
       "      <td>OlOVRlcEstxKK_6hMjy63A</td>\n",
       "    </tr>\n",
       "    <tr>\n",
       "      <th>4</th>\n",
       "      <td>PlYifdeyiixRZkymbUNqVQ</td>\n",
       "      <td>DAcqRGI_u8yNCcUIczfNxA</td>\n",
       "    </tr>\n",
       "    <tr>\n",
       "      <th>5</th>\n",
       "      <td>PtUd264rjqWuEzL89nf64w</td>\n",
       "      <td>5IFqqWJTaPNoY2ZgRlX73w</td>\n",
       "    </tr>\n",
       "    <tr>\n",
       "      <th>...</th>\n",
       "      <td>...</td>\n",
       "      <td>...</td>\n",
       "    </tr>\n",
       "    <tr>\n",
       "      <th>49146</th>\n",
       "      <td>nWGqiW9gSFeb4jFTw2_guA</td>\n",
       "      <td>tILA8ctsD_OZIcM2IfSyQA</td>\n",
       "    </tr>\n",
       "    <tr>\n",
       "      <th>49147</th>\n",
       "      <td>hK_2Z2XFGz7H3Mdl-t0Ubg</td>\n",
       "      <td>riwJWxj4850tGBhRahDt7g</td>\n",
       "    </tr>\n",
       "    <tr>\n",
       "      <th>49148</th>\n",
       "      <td>nz-OnQGnVIyy-gs7xVSJZQ</td>\n",
       "      <td>YNWEM2NVocUl6d74yRvpug</td>\n",
       "    </tr>\n",
       "    <tr>\n",
       "      <th>49149</th>\n",
       "      <td>XPrmT_RGh3t7uq9NYhcG7g</td>\n",
       "      <td>iWFK7U-wBR-68X0VFrSkNA</td>\n",
       "    </tr>\n",
       "    <tr>\n",
       "      <th>49150</th>\n",
       "      <td>tqKl99S3x2p6cNWmekW3MA</td>\n",
       "      <td>tILA8ctsD_OZIcM2IfSyQA</td>\n",
       "    </tr>\n",
       "  </tbody>\n",
       "</table>\n",
       "<p>49150 rows × 2 columns</p>\n",
       "</div>"
      ],
      "text/plain": [
       "                    :START_ID                 :END_ID\n",
       "1      2xlNGuN8naQTHO3_xY0lGw  yDiWYpuzRxcTgSi_O4JZpQ\n",
       "2      _Dkml_CfMMb_wWeGpFtczg  W6S482dRQ_9nCcLjfv8VNg\n",
       "3      EmLTCw2p9BhOwnzHFXgGaQ  OlOVRlcEstxKK_6hMjy63A\n",
       "4      PlYifdeyiixRZkymbUNqVQ  DAcqRGI_u8yNCcUIczfNxA\n",
       "5      PtUd264rjqWuEzL89nf64w  5IFqqWJTaPNoY2ZgRlX73w\n",
       "...                       ...                     ...\n",
       "49146  nWGqiW9gSFeb4jFTw2_guA  tILA8ctsD_OZIcM2IfSyQA\n",
       "49147  hK_2Z2XFGz7H3Mdl-t0Ubg  riwJWxj4850tGBhRahDt7g\n",
       "49148  nz-OnQGnVIyy-gs7xVSJZQ  YNWEM2NVocUl6d74yRvpug\n",
       "49149  XPrmT_RGh3t7uq9NYhcG7g  iWFK7U-wBR-68X0VFrSkNA\n",
       "49150  tqKl99S3x2p6cNWmekW3MA  tILA8ctsD_OZIcM2IfSyQA\n",
       "\n",
       "[49150 rows x 2 columns]"
      ]
     },
     "execution_count": 11,
     "metadata": {},
     "output_type": "execute_result"
    }
   ],
   "source": [
    "critics"
   ]
  },
  {
   "cell_type": "code",
   "execution_count": 18,
   "metadata": {},
   "outputs": [
    {
     "data": {
      "text/plain": [
       "['divey', 'hipster']"
      ]
     },
     "execution_count": 18,
     "metadata": {},
     "output_type": "execute_result"
    }
   ],
   "source": [
    "import json\n",
    "import re\n",
    "\n",
    "amb_list = []\n",
    "for i,r in restau.iterrows():\n",
    "    if r['attributes'] is not None:\n",
    "        attr = r['attributes']\n",
    "        if 'Ambience' in attr.keys():\n",
    "            # print(attr['Ambience'])\n",
    "            m = re.findall(\"'[a-zA-Z]*'\",attr['Ambience'])\n",
    "            for elt in m:\n",
    "                elt = elt.replace(\"\\'\",\"\")\n",
    "                if elt not in amb_list:\n",
    "                    amb_list.append(elt)\n",
    "\n",
    "amb_list[:2]"
   ]
  },
  {
   "cell_type": "code",
   "execution_count": 13,
   "metadata": {},
   "outputs": [],
   "source": [
    "amb_dict = {} #user 1 vers user 2\n",
    "amb_dict[':START_ID'] = {}\n",
    "amb_dict[':END_ID'] = {}\n",
    "id = 1\n",
    "for i,r in user.iterrows():\n",
    "    for friend in r['friends']:\n",
    "        amb_dict[':START_ID'][id]= r['user_id']\n",
    "        amb_dict[':END_ID'][id]= friend\n",
    "\n",
    "        id+=1\n",
    "\n",
    "ambiances = pd.DataFrame.from_dict(amb_dict)"
   ]
  },
  {
   "cell_type": "code",
   "execution_count": 14,
   "metadata": {},
   "outputs": [],
   "source": [
    "friendship.to_csv('csv/friendship.csv',index=False)\n",
    "wrote.to_csv('csv/wrote.csv',index=False)\n",
    "critics.to_csv('csv/critics.csv',index=False)\n",
    "user_clean.to_csv('csv/users.csv',index=False)\n",
    "review_clean.to_csv('csv/reviews.csv',index=False)\n",
    "restau_clean.to_csv('csv/restaurants.csv',index=False)"
   ]
  }
 ],
 "metadata": {
  "kernelspec": {
   "display_name": "Python 3.9.0 64-bit",
   "language": "python",
   "name": "python3"
  },
  "language_info": {
   "codemirror_mode": {
    "name": "ipython",
    "version": 3
   },
   "file_extension": ".py",
   "mimetype": "text/x-python",
   "name": "python",
   "nbconvert_exporter": "python",
   "pygments_lexer": "ipython3",
   "version": "3.9.0"
  },
  "orig_nbformat": 4,
  "vscode": {
   "interpreter": {
    "hash": "f07a9cec850f9104fc95ea0494484df5ee5d9a14128a89aec6d609f0f574ea61"
   }
  }
 },
 "nbformat": 4,
 "nbformat_minor": 2
}
